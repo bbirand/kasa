{
 "metadata": {
  "name": "",
  "signature": "sha256:26949324667c633e8810e120d1e4b82b14e1ae1cb5638c19f056f290bf06f81c"
 },
 "nbformat": 3,
 "nbformat_minor": 0,
 "worksheets": [
  {
   "cells": [
    {
     "cell_type": "code",
     "collapsed": false,
     "input": [
      "from devices.sensortag import SensorTag\n",
      "s = SensorTag(\"BC:6A:29:AE:CC:73\")\n",
      "s"
     ],
     "language": "python",
     "metadata": {},
     "outputs": [],
     "prompt_number": 1
    },
    {
     "cell_type": "code",
     "collapsed": false,
     "input": [
      "s.value"
     ],
     "language": "python",
     "metadata": {},
     "outputs": [
      {
       "metadata": {},
       "output_type": "pyout",
       "prompt_number": 17,
       "text": [
        "22.826762265129616"
       ]
      }
     ],
     "prompt_number": 17
    },
    {
     "cell_type": "code",
     "collapsed": false,
     "input": [
      "#s.update_every(secs=1)\n",
      "#s.stop_poll()"
     ],
     "language": "python",
     "metadata": {},
     "outputs": [],
     "prompt_number": 2
    },
    {
     "cell_type": "code",
     "collapsed": false,
     "input": [
      "s.stop_plotly()"
     ],
     "language": "python",
     "metadata": {},
     "outputs": [
      {
       "output_type": "stream",
       "stream": "stderr",
       "text": [
        "Exception in thread Thread-3:\n",
        "Traceback (most recent call last):\n",
        "  File \"/usr/lib/python2.7/threading.py\", line 552, in __bootstrap_inner\n",
        "    self.run()\n",
        "  File \"/usr/lib/python2.7/threading.py\", line 505, in run\n",
        "    self.__target(*self.__args, **self.__kwargs)\n",
        "  File \"/home/pi/kasa/devices/sensortag.py\", line 144, in poller\n",
        "    val.append(self.read_temp())\n",
        "  File \"/home/pi/kasa/devices/sensortag.py\", line 89, in read_temp\n",
        "    tool.expect('descriptor: .*')\n",
        "  File \"/home/pi/kasa/ve/local/lib/python2.7/site-packages/pexpect/__init__.py\", line 1451, in expect\n",
        "    timeout, searchwindowsize)\n",
        "  File \"/home/pi/kasa/ve/local/lib/python2.7/site-packages/pexpect/__init__.py\", line 1466, in expect_list\n",
        "    timeout, searchwindowsize)\n",
        "  File \"/home/pi/kasa/ve/local/lib/python2.7/site-packages/pexpect/__init__.py\", line 1568, in expect_loop\n",
        "    raise TIMEOUT(str(err) + '\\n' + str(self))\n",
        "TIMEOUT: Timeout exceeded.\n",
        "<pexpect.spawn object at 0x1e883f0>\n",
        "version: 3.3\n",
        "command: /usr/local/bin/gatttool\n",
        "args: ['/usr/local/bin/gatttool', '-b', 'BC:6A:29:AE:CC:73', '--interactive']\n",
        "searcher: <pexpect.searcher_re object at 0x20990d0>\n",
        "buffer (last 100 chars): 'AE:CC:73][LE]> \\r\\x1b[C   \\x1b[C\\x1b[C\\x1b[C\\x1b[C\\x1b[C\\x1b[C\\x1b[C\\x1b[C\\x1b[C\\x1b[C\\x1b[C\\x1b[C\\x1b[C\\x1b[C\\x1b[C\\x1b[C\\x1b[C\\x1b[C\\x1b[C\\x1b[C\\x1b[C\\x1b[C\\x1b[C\\x1b[C\\x1b[C\\x1b[C'\n",
        "before (last 100 chars): 'AE:CC:73][LE]> \\r\\x1b[C   \\x1b[C\\x1b[C\\x1b[C\\x1b[C\\x1b[C\\x1b[C\\x1b[C\\x1b[C\\x1b[C\\x1b[C\\x1b[C\\x1b[C\\x1b[C\\x1b[C\\x1b[C\\x1b[C\\x1b[C\\x1b[C\\x1b[C\\x1b[C\\x1b[C\\x1b[C\\x1b[C\\x1b[C\\x1b[C\\x1b[C'\n",
        "after: <class 'pexpect.TIMEOUT'>\n",
        "match: None\n",
        "match_index: None\n",
        "exitstatus: None\n",
        "flag_eof: False\n",
        "pid: 3345\n",
        "child_fd: 74\n",
        "closed: False\n",
        "timeout: 30\n",
        "delimiter: <class 'pexpect.EOF'>\n",
        "logfile: None\n",
        "logfile_read: None\n",
        "logfile_send: None\n",
        "maxread: 2000\n",
        "ignorecase: False\n",
        "searchwindowsize: None\n",
        "delaybeforesend: 0.05\n",
        "delayafterclose: 0.1\n",
        "delayafterterminate: 0.1\n",
        "\n"
       ]
      }
     ],
     "prompt_number": 14
    },
    {
     "cell_type": "code",
     "collapsed": false,
     "input": [
      "s.plot_plotly()"
     ],
     "language": "python",
     "metadata": {},
     "outputs": [],
     "prompt_number": 15
    },
    {
     "cell_type": "code",
     "collapsed": false,
     "input": [
      "import plotly.tools as tls\n",
      "tls.embed('graffitici','3')"
     ],
     "language": "python",
     "metadata": {},
     "outputs": [
      {
       "html": [
        "<iframe id=\"igraph\" scrolling=\"no\" style=\"border:none;\"seamless=\"seamless\" src=\"https://plot.ly/~graffitici/3\" height=\"525\" width=\"100%\"></iframe>"
       ],
       "metadata": {},
       "output_type": "display_data",
       "text": [
        "<IPython.core.display.HTML at 0x2099b50>"
       ]
      }
     ],
     "prompt_number": 13
    }
   ],
   "metadata": {}
  }
 ]
}