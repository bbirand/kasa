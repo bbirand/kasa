{
 "metadata": {
  "name": "",
  "signature": "sha256:9b68d9801753e1335ff58ea9a4aea6a1fc3cb5f2c132e74ede952284499e7674"
 },
 "nbformat": 3,
 "nbformat_minor": 0,
 "worksheets": [
  {
   "cells": [
    {
     "cell_type": "code",
     "collapsed": false,
     "input": [
      "from devices.sensortag import SensorTag\n",
      "kasa.discover()\n",
      "\n",
      "s = SensorTag(\"BC:6A:29:AE:CC:73\")\n",
      "s.update_every(secs=1)\n",
      "w = kasa['WeMo Switch']"
     ],
     "language": "python",
     "metadata": {},
     "outputs": []
    },
    {
     "cell_type": "code",
     "collapsed": false,
     "input": [
      "import sys, pprint\n",
      "pprint.pprint(sys.path)"
     ],
     "language": "python",
     "metadata": {},
     "outputs": [
      {
       "output_type": "stream",
       "stream": "stdout",
       "text": [
        "['',\n",
        " '/Users/wimnet/tmp/installation_test/kasa/ve/lib/python27.zip',\n",
        " '/Users/wimnet/tmp/installation_test/kasa/ve/lib/python2.7',\n",
        " '/Users/wimnet/tmp/installation_test/kasa/ve/lib/python2.7/plat-darwin',\n",
        " '/Users/wimnet/tmp/installation_test/kasa/ve/lib/python2.7/plat-mac',\n",
        " '/Users/wimnet/tmp/installation_test/kasa/ve/lib/python2.7/plat-mac/lib-scriptpackages',\n",
        " '/Users/wimnet/tmp/installation_test/kasa/ve/lib/python2.7/lib-tk',\n",
        " '/Users/wimnet/tmp/installation_test/kasa/ve/lib/python2.7/lib-old',\n",
        " '/Users/wimnet/tmp/installation_test/kasa/ve/lib/python2.7/lib-dynload',\n",
        " '/Library/Frameworks/Python.framework/Versions/2.7/lib/python2.7',\n",
        " '/Library/Frameworks/Python.framework/Versions/2.7/lib/python2.7/plat-darwin',\n",
        " '/Library/Frameworks/Python.framework/Versions/2.7/lib/python2.7/lib-tk',\n",
        " '/Library/Frameworks/Python.framework/Versions/2.7/lib/python2.7/plat-mac',\n",
        " '/Library/Frameworks/Python.framework/Versions/2.7/lib/python2.7/plat-mac/lib-scriptpackages',\n",
        " '/Users/wimnet/tmp/installation_test/kasa/ve/lib/python2.7/site-packages',\n",
        " '/Users/wimnet/tmp/installation_test/kasa/ve/lib/python2.7/site-packages/IPython/extensions',\n",
        " '/Users/wimnet/.ipython']\n"
       ]
      }
     ],
     "prompt_number": 6
    }
   ],
   "metadata": {}
  }
 ]
}