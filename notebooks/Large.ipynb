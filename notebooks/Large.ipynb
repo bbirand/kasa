{
 "metadata": {
  "name": "",
  "signature": "sha256:7e16ebd875e06c78fb09a72e5cb893651b043d29af1ae082d46e437f87eb0615"
 },
 "nbformat": 3,
 "nbformat_minor": 0,
 "worksheets": [
  {
   "cells": [
    {
     "cell_type": "code",
     "collapsed": false,
     "input": [
      "from devices.sensortag import SensorTag\n",
      "kasa.discover()\n",
      "\n",
      "s = SensorTag(\"BC:6A:29:AE:CC:73\")\n",
      "s.update_every(secs=1)\n",
      "w = kasa['WeMo Switch']"
     ],
     "language": "python",
     "metadata": {},
     "outputs": [],
     "prompt_number": 0
    }
   ],
   "metadata": {}
  }
 ]
}