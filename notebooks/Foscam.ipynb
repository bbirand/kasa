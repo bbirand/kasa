{
 "metadata": {
  "name": "",
  "signature": "sha256:17b92f3af87f2a4004b85437e0aa1bac4d95d5a7ad8d69aa9284b09e88611966"
 },
 "nbformat": 3,
 "nbformat_minor": 0,
 "worksheets": [
  {
   "cells": [
    {
     "cell_type": "code",
     "collapsed": false,
     "input": [
      "from devices.foscam import Foscam"
     ],
     "language": "python",
     "metadata": {},
     "outputs": [],
     "prompt_number": 6
    },
    {
     "cell_type": "code",
     "collapsed": false,
     "input": [
      "f = Foscam('192.168.10.249')\n",
      "f"
     ],
     "language": "python",
     "metadata": {},
     "outputs": [],
     "prompt_number": 7
    }
   ],
   "metadata": {}
  }
 ]
}