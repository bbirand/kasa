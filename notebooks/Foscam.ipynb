{
 "metadata": {
  "name": "",
  "signature": "sha256:7e8e2c16dc6ea0f2a0afd29ffc8df9b215f27ccca6df4fbeff3e2cdb8faa6ebb"
 },
 "nbformat": 3,
 "nbformat_minor": 0,
 "worksheets": [
  {
   "cells": [
    {
     "cell_type": "code",
     "collapsed": false,
     "input": [
      "%autoreload"
     ],
     "language": "python",
     "metadata": {},
     "outputs": [],
     "prompt_number": 3
    },
    {
     "cell_type": "code",
     "collapsed": false,
     "input": [
      "import pprint, sys, os\n",
      "pprint.pprint( sys.path )"
     ],
     "language": "python",
     "metadata": {},
     "outputs": [
      {
       "output_type": "stream",
       "stream": "stdout",
       "text": [
        "['',\n",
        " '/Users/wimnet/kasa/ve/lib/python27.zip',\n",
        " '/Users/wimnet/kasa/ve/lib/python2.7',\n",
        " '/Users/wimnet/kasa/ve/lib/python2.7/plat-darwin',\n",
        " '/Users/wimnet/kasa/ve/lib/python2.7/plat-mac',\n",
        " '/Users/wimnet/kasa/ve/lib/python2.7/plat-mac/lib-scriptpackages',\n",
        " '/Users/wimnet/kasa/ve/lib/python2.7/lib-tk',\n",
        " '/Users/wimnet/kasa/ve/lib/python2.7/lib-old',\n",
        " '/Users/wimnet/kasa/ve/lib/python2.7/lib-dynload',\n",
        " '/Library/Frameworks/Python.framework/Versions/2.7/lib/python2.7',\n",
        " '/Library/Frameworks/Python.framework/Versions/2.7/lib/python2.7/plat-darwin',\n",
        " '/Library/Frameworks/Python.framework/Versions/2.7/lib/python2.7/lib-tk',\n",
        " '/Library/Frameworks/Python.framework/Versions/2.7/lib/python2.7/plat-mac',\n",
        " '/Library/Frameworks/Python.framework/Versions/2.7/lib/python2.7/plat-mac/lib-scriptpackages',\n",
        " '/Users/wimnet/kasa/ve/lib/python2.7/site-packages',\n",
        " '/Users/wimnet/kasa/ve/lib/python2.7/site-packages/IPython/extensions',\n",
        " '/Users/wimnet/.ipython']\n"
       ]
      }
     ],
     "prompt_number": 6
    },
    {
     "cell_type": "code",
     "collapsed": false,
     "input": [
      "os.getcwd()"
     ],
     "language": "python",
     "metadata": {},
     "outputs": [
      {
       "metadata": {},
       "output_type": "pyout",
       "prompt_number": 7,
       "text": [
        "'/Users/wimnet/kasa/notebooks'"
       ]
      }
     ],
     "prompt_number": 7
    },
    {
     "cell_type": "code",
     "collapsed": false,
     "input": [
      "from devices.foscam import Foscam"
     ],
     "language": "python",
     "metadata": {},
     "outputs": [
      {
       "ename": "ImportError",
       "evalue": "No module named devices.foscam",
       "output_type": "pyerr",
       "traceback": [
        "\u001b[0;31m---------------------------------------------------------------------------\u001b[0m\n\u001b[0;31mImportError\u001b[0m                               Traceback (most recent call last)",
        "\u001b[0;32m<ipython-input-2-f59e407d888f>\u001b[0m in \u001b[0;36m<module>\u001b[0;34m()\u001b[0m\n\u001b[0;32m----> 1\u001b[0;31m \u001b[0;32mfrom\u001b[0m \u001b[0mdevices\u001b[0m\u001b[0;34m.\u001b[0m\u001b[0mfoscam\u001b[0m \u001b[0;32mimport\u001b[0m \u001b[0mFoscam\u001b[0m\u001b[0;34m\u001b[0m\u001b[0m\n\u001b[0m",
        "\u001b[0;31mImportError\u001b[0m: No module named devices.foscam"
       ]
      }
     ],
     "prompt_number": 2
    },
    {
     "cell_type": "code",
     "collapsed": false,
     "input": [
      "f = Foscam('192.168.10.249')\n",
      "f"
     ],
     "language": "python",
     "metadata": {},
     "outputs": []
    }
   ],
   "metadata": {}
  }
 ]
}