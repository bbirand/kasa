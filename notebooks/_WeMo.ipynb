{
 "metadata": {
  "name": "",
  "signature": "sha256:e85324f698e9d9ab85d7491fcdbc071a191aeb2b87225a2a13df9776c13efa9f"
 },
 "nbformat": 3,
 "nbformat_minor": 0,
 "worksheets": [
  {
   "cells": [
    {
     "cell_type": "code",
     "collapsed": false,
     "input": [
      "%%html\n",
      "\n",
      "<h1>WeMo Control</h1>\n",
      "<img src=\"http://www.belkin.com/images/productmt/582901/372.jpg\" style=\"height:150px\"/>\n"
     ],
     "language": "python",
     "metadata": {},
     "outputs": [
      {
       "html": [
        "\n",
        "<h1>WeMo Control</h1>\n",
        "<img src=\"http://www.belkin.com/images/productmt/582901/372.jpg\" style=\"height:150px\"/>"
       ],
       "metadata": {},
       "output_type": "display_data",
       "text": [
        "<IPython.core.display.HTML at 0x105957fd0>"
       ]
      }
     ],
     "prompt_number": 50
    },
    {
     "cell_type": "code",
     "collapsed": false,
     "input": [
      "from ouimeaux.environment import Environment\n",
      "env = Environment(with_subscribers = False, with_discovery=False)\n",
      "env.start()\n",
      "switch = env.get_switch('WeMo Switch')\n",
      "env.upnp.server.stop()\n",
      "env.registry.server.stop()\n"
     ],
     "language": "python",
     "metadata": {},
     "outputs": [],
     "prompt_number": 51
    },
    {
     "cell_type": "code",
     "collapsed": false,
     "input": [
      "kasa.discover();"
     ],
     "language": "python",
     "metadata": {},
     "outputs": [
      {
       "output_type": "stream",
       "stream": "stdout",
       "text": [
        "WeMo Switch: WeMo Switch\n"
       ]
      }
     ],
     "prompt_number": 52
    },
    {
     "cell_type": "code",
     "collapsed": false,
     "input": [
      "t = TemperatureWidget()\n",
      "p = PressureWidget()"
     ],
     "language": "python",
     "metadata": {},
     "outputs": [],
     "prompt_number": 53
    },
    {
     "cell_type": "code",
     "collapsed": false,
     "input": [
      "s = kasa['WeMo Switch']\n",
      "s.description = \"WeMo\"\n",
      "s"
     ],
     "language": "python",
     "metadata": {},
     "outputs": [],
     "prompt_number": 54
    },
    {
     "cell_type": "markdown",
     "metadata": {},
     "source": [
      "Simdi de sira geri kalani ypamaya geldi"
     ]
    },
    {
     "cell_type": "code",
     "collapsed": false,
     "input": [
      "s | t | p;"
     ],
     "language": "python",
     "metadata": {},
     "outputs": [],
     "prompt_number": 55
    },
    {
     "cell_type": "code",
     "collapsed": false,
     "input": [
      "s.value"
     ],
     "language": "python",
     "metadata": {},
     "outputs": [
      {
       "metadata": {},
       "output_type": "pyout",
       "prompt_number": 56,
       "text": [
        "True"
       ]
      }
     ],
     "prompt_number": 56
    }
   ],
   "metadata": {}
  }
 ]
}