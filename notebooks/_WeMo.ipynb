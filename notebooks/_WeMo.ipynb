{
 "metadata": {
  "name": "",
  "signature": "sha256:252493a688a0660668ff0a3d39d60ce180d5f0899668dedbf5ffb56fb815082d"
 },
 "nbformat": 3,
 "nbformat_minor": 0,
 "worksheets": [
  {
   "cells": [
    {
     "cell_type": "code",
     "collapsed": false,
     "input": [
      "%%html\n",
      "\n",
      "<h1>WeMo Control</h1>\n",
      "<img src=\"http://www.belkin.com/images/productmt/582901/372.jpg\" style=\"height:150px\"/>\n"
     ],
     "language": "python",
     "metadata": {},
     "outputs": [
      {
       "html": [
        "\n",
        "<h1>WeMo Control</h1>\n",
        "<img src=\"http://www.belkin.com/images/productmt/582901/372.jpg\" style=\"height:150px\"/>"
       ],
       "metadata": {},
       "output_type": "display_data",
       "text": [
        "<IPython.core.display.HTML at 0x2c2a450>"
       ]
      }
     ],
     "prompt_number": 78
    },
    {
     "cell_type": "code",
     "collapsed": false,
     "input": [
      "from ouimeaux.environment import Environment\n",
      "env = Environment(with_subscribers = False, with_discovery=False)\n",
      "env.start()\n",
      "switch = env.get_switch('WeMo Switch')\n",
      "env.upnp.server.stop()\n",
      "env.registry.server.stop()\n"
     ],
     "language": "python",
     "metadata": {},
     "outputs": [],
     "prompt_number": 79
    },
    {
     "cell_type": "code",
     "collapsed": false,
     "input": [
      "kasa.discover()"
     ],
     "language": "python",
     "metadata": {},
     "outputs": [
      {
       "html": [
        "<table>\n",
        "        <tr>\n",
        "        <th>Type</th>\n",
        "        <th>Name</th>\n",
        "        </tr>\n",
        "        <tr><td>WeMo Switch</td><td>WeMo Switch</td></tr></table>"
       ],
       "metadata": {},
       "output_type": "pyout",
       "prompt_number": 83,
       "text": [
        "<IPython.core.display.HTML at 0x2f32dd0>"
       ]
      }
     ],
     "prompt_number": 83
    },
    {
     "cell_type": "code",
     "collapsed": false,
     "input": [
      "# Get the SensoTag (by MAC)\n",
      "temp = kasa['BC:6A:29:AE:CC:73']"
     ],
     "language": "python",
     "metadata": {},
     "outputs": [],
     "prompt_number": 81
    },
    {
     "cell_type": "code",
     "collapsed": false,
     "input": [
      "s = kasa['WeMo Switch']\n",
      "s.description = \"WeMo\"\n",
      "s"
     ],
     "language": "python",
     "metadata": {},
     "outputs": [],
     "prompt_number": 84
    },
    {
     "cell_type": "code",
     "collapsed": false,
     "input": [
      "s | temp;"
     ],
     "language": "python",
     "metadata": {},
     "outputs": []
    },
    {
     "cell_type": "markdown",
     "metadata": {},
     "source": [
      "Simdi de sira geri kalani ypamaya geldi"
     ]
    },
    {
     "cell_type": "code",
     "collapsed": false,
     "input": [
      "t = TemperatureWidget()\n",
      "p = PressureWidget()\n",
      "s | t | p;"
     ],
     "language": "python",
     "metadata": {},
     "outputs": []
    },
    {
     "cell_type": "code",
     "collapsed": false,
     "input": [
      "s.value\n",
      "temp.update_every(1)"
     ],
     "language": "python",
     "metadata": {},
     "outputs": []
    },
    {
     "cell_type": "code",
     "collapsed": false,
     "input": [
      "temp.stop_poll()"
     ],
     "language": "python",
     "metadata": {},
     "outputs": []
    },
    {
     "cell_type": "code",
     "collapsed": false,
     "input": [
      "s"
     ],
     "language": "python",
     "metadata": {},
     "outputs": [],
     "prompt_number": 85
    }
   ],
   "metadata": {}
  }
 ]
}