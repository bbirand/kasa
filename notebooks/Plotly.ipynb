{
 "metadata": {
  "name": "",
  "signature": "sha256:69bc43df65bbae6b2a1c479e845fea1293122a954bb17d699ac6ecd57cc984d1"
 },
 "nbformat": 3,
 "nbformat_minor": 0,
 "worksheets": [
  {
   "cells": [
    {
     "cell_type": "markdown",
     "metadata": {},
     "source": [
      "#Getting Started#\n",
      "\n",
      "We first have to set up the credentials and the stream ids for the system to work"
     ]
    },
    {
     "cell_type": "code",
     "collapsed": false,
     "input": [
      "import plotly.tools as tls \n",
      "tls.set_credentials_file(username=\"graffitici\", \n",
      "                             api_key=\"l1du1v27ku\") \n",
      "\n",
      "tls.set_credentials_file(stream_ids=[\"wo0128zp8x\"])\n",
      "\n",
      "\n",
      "tls.get_credentials_file()"
     ],
     "language": "python",
     "metadata": {},
     "outputs": [
      {
       "metadata": {},
       "output_type": "pyout",
       "prompt_number": 5,
       "text": [
        "{u'api_key': u'l1du1v27ku',\n",
        " u'stream_ids': [u'wo0128zp8x'],\n",
        " u'username': u'graffitici'}"
       ]
      }
     ],
     "prompt_number": 5
    },
    {
     "cell_type": "code",
     "collapsed": false,
     "input": [
      "my_stream = Stream(token=\"wo0128zp8x\",  # N.B. link stream id to 'token' key\n",
      "                   maxpoints=80)        # N.B. keep a max of 80 pts on screen\n",
      "\n",
      "# Initialize trace of streaming plot by embedding the unique stream_id\n",
      "my_data = Data([Scatter(x=[],\n",
      "                        y=[],\n",
      "                        mode='lines+markers',\n",
      "                        stream=my_stream)]) # embed stream id, 1 per trace\n"
     ],
     "language": "python",
     "metadata": {},
     "outputs": [
      {
       "ename": "NameError",
       "evalue": "name 'Stream' is not defined",
       "output_type": "pyerr",
       "traceback": [
        "\u001b[1;31m---------------------------------------------------------------------------\u001b[0m\n\u001b[1;31mNameError\u001b[0m                                 Traceback (most recent call last)",
        "\u001b[1;32m<ipython-input-6-341f9a544a08>\u001b[0m in \u001b[0;36m<module>\u001b[1;34m()\u001b[0m\n\u001b[1;32m----> 1\u001b[1;33m my_stream = Stream(token=\"wo0128zp8x\",  # N.B. link stream id to 'token' key\n\u001b[0m\u001b[0;32m      2\u001b[0m                    maxpoints=80)        # N.B. keep a max of 80 pts on screen\n\u001b[0;32m      3\u001b[0m \u001b[1;33m\u001b[0m\u001b[0m\n\u001b[0;32m      4\u001b[0m \u001b[1;31m# Initialize trace of streaming plot by embedding the unique stream_id\u001b[0m\u001b[1;33m\u001b[0m\u001b[1;33m\u001b[0m\u001b[0m\n\u001b[0;32m      5\u001b[0m my_data = Data([Scatter(x=[],\n",
        "\u001b[1;31mNameError\u001b[0m: name 'Stream' is not defined"
       ]
      }
     ],
     "prompt_number": 6
    },
    {
     "cell_type": "code",
     "collapsed": false,
     "input": [
      "# Add title to layout object\n",
      "my_layout = Layout(title='Sensor Data')\n",
      "\n",
      "# Make instance of figure object\n",
      "my_fig = Figure(data=my_data, layout=my_layout)\n",
      "\n",
      "# Initialize streaming plot, open new tab\n",
      "unique_url = py.plot(my_fig, filename='s7_first-stream')\n",
      "\n",
      "# Make instance of the Stream link object, \n",
      "#  with same stream id as Stream id object\n",
      "s = py.Stream(\"wo0128zp8x\")\n",
      "\n",
      "# Open the stream\n",
      "s.open()"
     ],
     "language": "python",
     "metadata": {},
     "outputs": []
    },
    {
     "cell_type": "code",
     "collapsed": false,
     "input": [
      "s.write(dict(x=[1,2,3],y=[1,4,9]))  # N.B. write to Plotly stream! \n",
      "                                  #  Send numbers to append current list.\n",
      "                                  #  Send list to overwrite existing list (more in 7.2)."
     ],
     "language": "python",
     "metadata": {},
     "outputs": []
    },
    {
     "cell_type": "markdown",
     "metadata": {},
     "source": [
      "#Example using Sensors#\n",
      "\n",
      "Let's see if we will be able to define ways of printing the result of a callback with these."
     ]
    },
    {
     "cell_type": "code",
     "collapsed": false,
     "input": [
      "import plotly.plotly as py\n",
      "from plotly.graph_objs import *\n",
      "\n",
      "trace0 = Scatter(\n",
      "    x=[1, 2, 3, 4],\n",
      "    y=[10, 15, 13, 17]\n",
      ")\n",
      "trace1 = Scatter(\n",
      "    x=[1, 2, 3, 4],\n",
      "    y=[16, 5, 11, 9]\n",
      ")\n",
      "data = Data([trace0, trace1])\n",
      "\n",
      "unique_url = py.plot(data, filename = 'basic-line')"
     ],
     "language": "python",
     "metadata": {},
     "outputs": []
    }
   ],
   "metadata": {}
  }
 ]
}