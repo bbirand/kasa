{
 "metadata": {
  "name": "",
  "signature": "sha256:dc85a8da15c0e8dec5643a69564fc7c2930d6324efd53d5773a85a10696c2de1"
 },
 "nbformat": 3,
 "nbformat_minor": 0,
 "worksheets": [
  {
   "cells": [
    {
     "cell_type": "markdown",
     "metadata": {},
     "source": [
      "#Kitchen Temperature#"
     ]
    },
    {
     "cell_type": "code",
     "collapsed": false,
     "input": [
      "# kasa.discover()\n",
      "# t= kasa['SensorTag1-Temp']\n",
      "t = TemperatureWidget()\n",
      "p = PressureWidget()\n",
      "p2 = PressureWidget()\n",
      "t2 = TemperatureWidget()"
     ],
     "language": "python",
     "metadata": {},
     "outputs": [],
     "prompt_number": 1
    },
    {
     "cell_type": "code",
     "collapsed": false,
     "input": [
      "t | p | t2 | p2 ;"
     ],
     "language": "python",
     "metadata": {},
     "outputs": [],
     "prompt_number": 2
    },
    {
     "cell_type": "code",
     "collapsed": false,
     "input": [
      "t.value=40"
     ],
     "language": "python",
     "metadata": {},
     "outputs": [],
     "prompt_number": 8
    },
    {
     "cell_type": "code",
     "collapsed": false,
     "input": [
      "t.test_class()"
     ],
     "language": "python",
     "metadata": {},
     "outputs": [],
     "prompt_number": 9
    }
   ],
   "metadata": {}
  }
 ]
}