{
 "metadata": {
  "name": "",
  "signature": "sha256:896de06e194bed53a4def867e7797aee5d004b5607692d75bd5a2794e703d2a7"
 },
 "nbformat": 3,
 "nbformat_minor": 0,
 "worksheets": [
  {
   "cells": [
    {
     "cell_type": "markdown",
     "metadata": {},
     "source": [
      "#Kitchen Temperature#"
     ]
    },
    {
     "cell_type": "code",
     "collapsed": false,
     "input": [
      "# kasa.discover()\n",
      "# t= kasa['SensorTag1-Temp']\n",
      "t = TemperatureWidget()\n",
      "p = PressureWidget()\n",
      "p2 = PressureWidget()\n",
      "t2 = TemperatureWidget()"
     ],
     "language": "python",
     "metadata": {},
     "outputs": [],
     "prompt_number": 4
    },
    {
     "cell_type": "code",
     "collapsed": false,
     "input": [
      "t | p | t2 | p2 ;"
     ],
     "language": "python",
     "metadata": {},
     "outputs": [],
     "prompt_number": 5
    },
    {
     "cell_type": "code",
     "collapsed": false,
     "input": [
      "p.value=20"
     ],
     "language": "python",
     "metadata": {},
     "outputs": [],
     "prompt_number": 6
    }
   ],
   "metadata": {}
  }
 ]
}